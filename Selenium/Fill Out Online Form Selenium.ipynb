{
 "cells": [
  {
   "cell_type": "code",
   "execution_count": 1,
   "id": "65a03f24",
   "metadata": {},
   "outputs": [
    {
     "name": "stdout",
     "output_type": "stream",
     "text": [
      "Requirement already satisfied: selenium in c:\\programdata\\anaconda3\\lib\\site-packages (4.12.0)\n",
      "Requirement already satisfied: urllib3[socks]<3,>=1.26 in c:\\users\\jrg363_rs\\appdata\\roaming\\python\\python39\\site-packages (from selenium) (2.0.2)\n",
      "Requirement already satisfied: certifi>=2021.10.8 in c:\\users\\jrg363_rs\\appdata\\roaming\\python\\python39\\site-packages (from selenium) (2023.5.7)\n",
      "Requirement already satisfied: trio~=0.17 in c:\\programdata\\anaconda3\\lib\\site-packages (from selenium) (0.22.2)\n",
      "Requirement already satisfied: trio-websocket~=0.9 in c:\\programdata\\anaconda3\\lib\\site-packages (from selenium) (0.10.3)\n",
      "Requirement already satisfied: sniffio in c:\\programdata\\anaconda3\\lib\\site-packages (from trio~=0.17->selenium) (1.2.0)\n",
      "Requirement already satisfied: outcome in c:\\programdata\\anaconda3\\lib\\site-packages (from trio~=0.17->selenium) (1.2.0)\n",
      "Requirement already satisfied: sortedcontainers in c:\\programdata\\anaconda3\\lib\\site-packages (from trio~=0.17->selenium) (2.4.0)\n",
      "Requirement already satisfied: idna in c:\\users\\jrg363_rs\\appdata\\roaming\\python\\python39\\site-packages (from trio~=0.17->selenium) (3.4)\n",
      "Requirement already satisfied: cffi>=1.14 in c:\\programdata\\anaconda3\\lib\\site-packages (from trio~=0.17->selenium) (1.14.6)\n",
      "Requirement already satisfied: exceptiongroup>=1.0.0rc9 in c:\\programdata\\anaconda3\\lib\\site-packages (from trio~=0.17->selenium) (1.1.3)\n",
      "Requirement already satisfied: attrs>=20.1.0 in c:\\programdata\\anaconda3\\lib\\site-packages (from trio~=0.17->selenium) (21.2.0)\n",
      "Requirement already satisfied: pycparser in c:\\programdata\\anaconda3\\lib\\site-packages (from cffi>=1.14->trio~=0.17->selenium) (2.20)\n",
      "Requirement already satisfied: wsproto>=0.14 in c:\\programdata\\anaconda3\\lib\\site-packages (from trio-websocket~=0.9->selenium) (1.2.0)\n",
      "Requirement already satisfied: pysocks!=1.5.7,<2.0,>=1.5.6 in c:\\programdata\\anaconda3\\lib\\site-packages (from urllib3[socks]<3,>=1.26->selenium) (1.7.1)\n",
      "Requirement already satisfied: h11<1,>=0.9.0 in c:\\programdata\\anaconda3\\lib\\site-packages (from wsproto>=0.14->trio-websocket~=0.9->selenium) (0.14.0)\n",
      "Requirement already satisfied: pandas in c:\\programdata\\anaconda3\\lib\\site-packages (1.3.4)\n",
      "Requirement already satisfied: pytz>=2017.3 in c:\\programdata\\anaconda3\\lib\\site-packages (from pandas) (2021.3)\n",
      "Requirement already satisfied: numpy>=1.17.3 in c:\\programdata\\anaconda3\\lib\\site-packages (from pandas) (1.20.3)\n",
      "Requirement already satisfied: python-dateutil>=2.7.3 in c:\\programdata\\anaconda3\\lib\\site-packages (from pandas) (2.8.2)\n",
      "Requirement already satisfied: six>=1.5 in c:\\programdata\\anaconda3\\lib\\site-packages (from python-dateutil>=2.7.3->pandas) (1.16.0)\n"
     ]
    }
   ],
   "source": [
    "!pip install selenium\n",
    "!pip install pandas\n",
    "import sys\n",
    "#Below you must set path to where webdriver is installed. This path will be different for you.\n",
    "sys.path.insert(0,'C:\\\\Users\\\\jrg363_rs\\\\Downloads\\\\chromedriver')\n",
    "\n",
    "#Make sure to install all packages.\n",
    "#!pip install selenium\n",
    "#!pip install pandas\n",
    "from selenium import webdriver\n",
    "from selenium.webdriver.chrome.options import Options\n",
    "from selenium.webdriver.support.ui import WebDriverWait\n",
    "from selenium.webdriver.support import expected_conditions as EC\n",
    "from selenium.webdriver.common.by import By\n",
    "\n",
    "import re\n",
    "import pandas as pd\n",
    "import time"
   ]
  },
  {
   "cell_type": "code",
   "execution_count": 2,
   "id": "21d767b0",
   "metadata": {},
   "outputs": [],
   "source": [
    "chrome_options = webdriver.ChromeOptions()"
   ]
  },
  {
   "cell_type": "code",
   "execution_count": 4,
   "id": "da552c76",
   "metadata": {},
   "outputs": [],
   "source": [
    "import random\n",
    "from selenium.webdriver.common.by import By\n",
    " \n",
    "from selenium import webdriver\n",
    "from selenium.webdriver.chrome.service import Service\n",
    "driver = webdriver.Chrome(options=chrome_options)\n",
    "driver.maximize_window()\n",
    "driver.get(\"https://ecommerce-playground.lambdatest.io/index.php?route=account/register\")\n",
    " \n",
    "#filling in the form\n",
    "first_name = driver.find_element(By.ID, \"input-firstname\")\n",
    "first_name.send_keys(\"FirstName\")\n",
    "#Wait half a second. \n",
    "time.sleep(0.5)\n",
    " \n",
    "last_name = driver.find_element(By.ID, \"input-lastname\")\n",
    "last_name.send_keys(\"LastName\")\n",
    "#Wait half a second. \n",
    "time.sleep(0.5)\n",
    " \n",
    "random_email = str(random.randint(0,99999)) + \"@example.com\"\n",
    " \n",
    "email = driver.find_element(By.ID, \"input-email\")\n",
    "#Input a different test email each time for the form to complete. Otherwise will give warning that registration already filled out for that email.\n",
    "email.send_keys(\"test-email@gmail.com\")\n",
    "#Wait half a second. \n",
    "time.sleep(0.5)\n",
    " \n",
    "telephone = driver.find_element(By.ID, \"input-telephone\")\n",
    "telephone.send_keys(\"+351999888777\")\n",
    "#Wait half a second. \n",
    "time.sleep(0.5)\n",
    " \n",
    "password = driver.find_element(By.ID, \"input-password\")\n",
    "password.send_keys(\"123456\")\n",
    "#Wait half a second. \n",
    "time.sleep(0.5)\n",
    " \n",
    "password_confirm = driver.find_element(By.ID, \"input-confirm\")\n",
    "password_confirm.send_keys(\"123456\")\n",
    "#Wait half a second. \n",
    "time.sleep(0.5)\n",
    " \n",
    "newsletter = driver.find_element(By.XPATH, value=\"//label[@for='input-newsletter-yes']\")\n",
    "newsletter.click()\n",
    "#Wait half a second. \n",
    "time.sleep(0.5)\n",
    " \n",
    "terms = driver.find_element(By.XPATH, value=\"//label[@for='input-agree']\")\n",
    "terms.click()\n",
    "#Wait half a second. \n",
    "time.sleep(0.5)\n",
    " \n",
    "continue_button = driver.find_element(By.XPATH, value=\"//input[@value='Continue']\")\n",
    "continue_button.click()\n",
    " \n",
    "#driver.quit()"
   ]
  },
  {
   "cell_type": "code",
   "execution_count": 5,
   "id": "66f5a26a",
   "metadata": {},
   "outputs": [],
   "source": [
    "#View results. Command below will Close out of browser.\n",
    "driver.quit()"
   ]
  },
  {
   "cell_type": "code",
   "execution_count": null,
   "id": "55096e12",
   "metadata": {},
   "outputs": [],
   "source": []
  }
 ],
 "metadata": {
  "kernelspec": {
   "display_name": "Python 3 (ipykernel)",
   "language": "python",
   "name": "python3"
  },
  "language_info": {
   "codemirror_mode": {
    "name": "ipython",
    "version": 3
   },
   "file_extension": ".py",
   "mimetype": "text/x-python",
   "name": "python",
   "nbconvert_exporter": "python",
   "pygments_lexer": "ipython3",
   "version": "3.9.7"
  }
 },
 "nbformat": 4,
 "nbformat_minor": 5
}
